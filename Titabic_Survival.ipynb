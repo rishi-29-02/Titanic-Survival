{
  "nbformat": 4,
  "nbformat_minor": 0,
  "metadata": {
    "colab": {
      "name": "Titabic_Survival.ipynb",
      "provenance": [],
      "collapsed_sections": [],
      "authorship_tag": "ABX9TyOYUVYGRGB44aBsabX/JLQ6",
      "include_colab_link": true
    },
    "kernelspec": {
      "display_name": "Python 3",
      "name": "python3"
    }
  },
  "cells": [
    {
      "cell_type": "markdown",
      "metadata": {
        "id": "view-in-github",
        "colab_type": "text"
      },
      "source": [
        "<a href=\"https://colab.research.google.com/github/rishi-29-02/Titanic-Survival/blob/main/Titabic_Survival.ipynb\" target=\"_parent\"><img src=\"https://colab.research.google.com/assets/colab-badge.svg\" alt=\"Open In Colab\"/></a>"
      ]
    },
    {
      "cell_type": "markdown",
      "metadata": {
        "id": "_pTDRfHGvuVx"
      },
      "source": [
        "# **Titanic Survival Prediction**"
      ]
    },
    {
      "cell_type": "markdown",
      "metadata": {
        "id": "U4mD2XU1vmn0"
      },
      "source": [
        "# Data Description\n",
        "\n",
        "The data has been split into two groups:\n",
        "\n",
        "training set (train.csv)\n",
        "test set (test.csv)\n",
        "The training set should be used to build your machine learning models. For the training set, we provide the outcome \n",
        "(also known as the “ground truth”) for each passenger. \n",
        "\n",
        "Your model will be based on “features” like passengers’ gender and class. You can also use feature engineering to create new features.\n",
        "\n",
        "The test set should be used to see how well your model performs on unseen data. For the test set, we do not provide the ground truth \n",
        "for each passenger. It is your job to predict these outcomes. For each passenger in the test set, use the model you trained to predict \n",
        "whether or not they survived the sinking of the Titanic.\n",
        "\n",
        "We also include gender_submission.csv, a set of predictions that assume all and only female passengers survive, \n",
        "as an example of what a submission file should look like.\n"
      ]
    },
    {
      "cell_type": "code",
      "metadata": {
        "id": "N3nbfAwuGUab"
      },
      "source": [
        "# Load libraries\n",
        "import pandas as pd\n",
        "import numpy as np\n",
        "import matplotlib.pyplot as plt\n",
        "import seaborn as sbn\n",
        "\n",
        "from sklearn.model_selection import  train_test_split\n",
        "\n",
        "from sklearn.linear_model import LogisticRegression\n",
        "from sklearn.svm import SVC\n",
        "from sklearn.naive_bayes import GaussianNB\n",
        "from sklearn.neighbors import KNeighborsClassifier\n",
        "from sklearn.tree import DecisionTreeClassifier\n",
        "from sklearn.ensemble import RandomForestClassifier\n",
        "from sklearn.linear_model import SGDClassifier\n",
        "\n",
        "from sklearn.model_selection import KFold\n",
        "from sklearn.model_selection import cross_val_score\n",
        "from sklearn.model_selection import GridSearchCV\n",
        "\n",
        "from sklearn.pipeline import Pipeline\n",
        "\n",
        "from sklearn.preprocessing import StandardScaler\n",
        "\n",
        "from sklearn.metrics import accuracy_score\n",
        "\n",
        "import warnings\n",
        "warnings.filterwarnings('ignore')"
      ],
      "execution_count": 231,
      "outputs": []
    },
    {
      "cell_type": "code",
      "metadata": {
        "id": "usO1hxZHGsvr"
      },
      "source": [
        "# load the dataset\n",
        "#from google.colab import files\n",
        "#uploaded = files.upload()"
      ],
      "execution_count": 232,
      "outputs": []
    },
    {
      "cell_type": "code",
      "metadata": {
        "colab": {
          "base_uri": "https://localhost:8080/"
        },
        "id": "ucIpE0pLHPHH",
        "outputId": "1b370f62-0cbc-44bd-fa27-dcb1b32ee775"
      },
      "source": [
        "train = pd.read_csv('train.csv')\n",
        "test = pd.read_csv('test.csv')\n",
        "pd.set_option('display.width', 100000)\n",
        "pd.set_option('display.max_columns', 20)\n",
        "print(train.head())"
      ],
      "execution_count": 233,
      "outputs": [
        {
          "output_type": "stream",
          "text": [
            "   PassengerId  Survived  Pclass                                               Name     Sex   Age  SibSp  Parch            Ticket     Fare Cabin Embarked\n",
            "0            1         0       3                            Braund, Mr. Owen Harris    male  22.0      1      0         A/5 21171   7.2500   NaN        S\n",
            "1            2         1       1  Cumings, Mrs. John Bradley (Florence Briggs Th...  female  38.0      1      0          PC 17599  71.2833   C85        C\n",
            "2            3         1       3                             Heikkinen, Miss. Laina  female  26.0      0      0  STON/O2. 3101282   7.9250   NaN        S\n",
            "3            4         1       1       Futrelle, Mrs. Jacques Heath (Lily May Peel)  female  35.0      1      0            113803  53.1000  C123        S\n",
            "4            5         0       3                           Allen, Mr. William Henry    male  35.0      0      0            373450   8.0500   NaN        S\n"
          ],
          "name": "stdout"
        }
      ]
    },
    {
      "cell_type": "markdown",
      "metadata": {
        "id": "Ry8jeWyxwo8J"
      },
      "source": [
        "*Analyze the data*"
      ]
    },
    {
      "cell_type": "code",
      "metadata": {
        "colab": {
          "base_uri": "https://localhost:8080/"
        },
        "id": "dWZ-vytaI75P",
        "outputId": "81a17aaf-e32a-4a98-810f-a43d824e1db7"
      },
      "source": [
        "# Types\n",
        "print(train.dtypes)"
      ],
      "execution_count": 234,
      "outputs": [
        {
          "output_type": "stream",
          "text": [
            "PassengerId      int64\n",
            "Survived         int64\n",
            "Pclass           int64\n",
            "Name            object\n",
            "Sex             object\n",
            "Age            float64\n",
            "SibSp            int64\n",
            "Parch            int64\n",
            "Ticket          object\n",
            "Fare           float64\n",
            "Cabin           object\n",
            "Embarked        object\n",
            "dtype: object\n"
          ],
          "name": "stdout"
        }
      ]
    },
    {
      "cell_type": "code",
      "metadata": {
        "colab": {
          "base_uri": "https://localhost:8080/"
        },
        "id": "gZfo0dKQh9m_",
        "outputId": "68ea11f0-ad6a-413d-c313-6d9466637fc2"
      },
      "source": [
        "print(test.dtypes)"
      ],
      "execution_count": 235,
      "outputs": [
        {
          "output_type": "stream",
          "text": [
            "PassengerId      int64\n",
            "Pclass           int64\n",
            "Name            object\n",
            "Sex             object\n",
            "Age            float64\n",
            "SibSp            int64\n",
            "Parch            int64\n",
            "Ticket          object\n",
            "Fare           float64\n",
            "Cabin           object\n",
            "Embarked        object\n",
            "dtype: object\n"
          ],
          "name": "stdout"
        }
      ]
    },
    {
      "cell_type": "markdown",
      "metadata": {
        "id": "waw6jPjmvU15"
      },
      "source": [
        "From above we got that all the features are not numeric.\n"
      ]
    },
    {
      "cell_type": "code",
      "metadata": {
        "colab": {
          "base_uri": "https://localhost:8080/"
        },
        "id": "_49qMEMiJJOA",
        "outputId": "1f773ba8-521f-41e3-eb59-7cc4785671da"
      },
      "source": [
        "# describe\n",
        "print(train.describe(include='all'))"
      ],
      "execution_count": 236,
      "outputs": [
        {
          "output_type": "stream",
          "text": [
            "        PassengerId    Survived      Pclass                       Name   Sex         Age       SibSp       Parch  Ticket        Fare        Cabin Embarked\n",
            "count    891.000000  891.000000  891.000000                        891   891  714.000000  891.000000  891.000000     891  891.000000          204      889\n",
            "unique          NaN         NaN         NaN                        891     2         NaN         NaN         NaN     681         NaN          147        3\n",
            "top             NaN         NaN         NaN  Karlsson, Mr. Nils August  male         NaN         NaN         NaN  347082         NaN  C23 C25 C27        S\n",
            "freq            NaN         NaN         NaN                          1   577         NaN         NaN         NaN       7         NaN            4      644\n",
            "mean     446.000000    0.383838    2.308642                        NaN   NaN   29.699118    0.523008    0.381594     NaN   32.204208          NaN      NaN\n",
            "std      257.353842    0.486592    0.836071                        NaN   NaN   14.526497    1.102743    0.806057     NaN   49.693429          NaN      NaN\n",
            "min        1.000000    0.000000    1.000000                        NaN   NaN    0.420000    0.000000    0.000000     NaN    0.000000          NaN      NaN\n",
            "25%      223.500000    0.000000    2.000000                        NaN   NaN   20.125000    0.000000    0.000000     NaN    7.910400          NaN      NaN\n",
            "50%      446.000000    0.000000    3.000000                        NaN   NaN   28.000000    0.000000    0.000000     NaN   14.454200          NaN      NaN\n",
            "75%      668.500000    1.000000    3.000000                        NaN   NaN   38.000000    1.000000    0.000000     NaN   31.000000          NaN      NaN\n",
            "max      891.000000    1.000000    3.000000                        NaN   NaN   80.000000    8.000000    6.000000     NaN  512.329200          NaN      NaN\n"
          ],
          "name": "stdout"
        }
      ]
    },
    {
      "cell_type": "markdown",
      "metadata": {
        "id": "iU09_dWVvTS1"
      },
      "source": [
        "From describe we got that \n",
        "1. Age contains only 714 datasets.\n",
        "2. Cabin contains only 204 datasets.\n",
        "3. Emabarked is also missing the two values."
      ]
    },
    {
      "cell_type": "code",
      "metadata": {
        "colab": {
          "base_uri": "https://localhost:8080/"
        },
        "id": "ww-EgG1yiuid",
        "outputId": "5d305360-444d-47e5-93a4-ac877cb8cda7"
      },
      "source": [
        "print(test.describe(include='all'))"
      ],
      "execution_count": 237,
      "outputs": [
        {
          "output_type": "stream",
          "text": [
            "        PassengerId      Pclass                          Name   Sex         Age       SibSp       Parch    Ticket        Fare            Cabin Embarked\n",
            "count    418.000000  418.000000                           418   418  332.000000  418.000000  418.000000       418  417.000000               91      418\n",
            "unique          NaN         NaN                           418     2         NaN         NaN         NaN       363         NaN               76        3\n",
            "top             NaN         NaN  Nancarrow, Mr. William Henry  male         NaN         NaN         NaN  PC 17608         NaN  B57 B59 B63 B66        S\n",
            "freq            NaN         NaN                             1   266         NaN         NaN         NaN         5         NaN                3      270\n",
            "mean    1100.500000    2.265550                           NaN   NaN   30.272590    0.447368    0.392344       NaN   35.627188              NaN      NaN\n",
            "std      120.810458    0.841838                           NaN   NaN   14.181209    0.896760    0.981429       NaN   55.907576              NaN      NaN\n",
            "min      892.000000    1.000000                           NaN   NaN    0.170000    0.000000    0.000000       NaN    0.000000              NaN      NaN\n",
            "25%      996.250000    1.000000                           NaN   NaN   21.000000    0.000000    0.000000       NaN    7.895800              NaN      NaN\n",
            "50%     1100.500000    3.000000                           NaN   NaN   27.000000    0.000000    0.000000       NaN   14.454200              NaN      NaN\n",
            "75%     1204.750000    3.000000                           NaN   NaN   39.000000    1.000000    0.000000       NaN   31.500000              NaN      NaN\n",
            "max     1309.000000    3.000000                           NaN   NaN   76.000000    8.000000    9.000000       NaN  512.329200              NaN      NaN\n"
          ],
          "name": "stdout"
        }
      ]
    },
    {
      "cell_type": "markdown",
      "metadata": {
        "id": "LHof0KJdi6Ff"
      },
      "source": [
        "From describe we get\n",
        "1. There are total 418 datasets.\n",
        "2. Age has only 332 datasets.\n",
        "3. Fare is missing one value.\n",
        "4. Cabin constains only 91 datasets.\n",
        "\n"
      ]
    },
    {
      "cell_type": "markdown",
      "metadata": {
        "id": "ql9yc2wzw8aX"
      },
      "source": [
        "*Data Visulaization*"
      ]
    },
    {
      "cell_type": "code",
      "metadata": {
        "colab": {
          "base_uri": "https://localhost:8080/",
          "height": 279
        },
        "id": "kudCjacau9n7",
        "outputId": "f34cc54f-768c-4b5d-cc67-414b816800f2"
      },
      "source": [
        "# Barplot\n",
        "sbn.barplot(x=\"Sex\", y=\"Survived\", data=train)\n",
        "plt.show()"
      ],
      "execution_count": 238,
      "outputs": [
        {
          "output_type": "display_data",
          "data": {
            "image/png": "[encoded data removed]",
            "text/plain": [
              "<Figure size 432x288 with 1 Axes>"
            ]
          },
          "metadata": {
            "tags": [],
            "needs_background": "light"
          }
        }
      ]
    },
    {
      "cell_type": "markdown",
      "metadata": {
        "id": "-N2anjBD2Hfw"
      },
      "source": [
        "Females are more likely to be survived than males."
      ]
    },
    {
      "cell_type": "code",
      "metadata": {
        "colab": {
          "base_uri": "https://localhost:8080/",
          "height": 279
        },
        "id": "oFNuXe1xzuTf",
        "outputId": "45e6cf0d-36c7-445a-9c90-fc42b2c20b8c"
      },
      "source": [
        "sbn.barplot(x='SibSp', y='Survived', data=train)\n",
        "plt.show()"
      ],
      "execution_count": 239,
      "outputs": [
        {
          "output_type": "display_data",
          "data": {
            "image/png": "[encoded data removed]",
            "text/plain": [
              "<Figure size 432x288 with 1 Axes>"
            ]
          },
          "metadata": {
            "tags": [],
            "needs_background": "light"
          }
        }
      ]
    },
    {
      "cell_type": "markdown",
      "metadata": {
        "id": "9TxJVk5i3wL_"
      },
      "source": [
        "Sibsp =1 is more likely to survive."
      ]
    },
    {
      "cell_type": "code",
      "metadata": {
        "colab": {
          "base_uri": "https://localhost:8080/",
          "height": 279
        },
        "id": "-CtHOxg427it",
        "outputId": "da28107d-be64-41f9-94bc-c5fdce2376c5"
      },
      "source": [
        "sbn.barplot(x='Pclass', y='Survived', data=train)\n",
        "plt.show()"
      ],
      "execution_count": 240,
      "outputs": [
        {
          "output_type": "display_data",
          "data": {
            "image/png": "[encoded data removed]",
            "text/plain": [
              "<Figure size 432x288 with 1 Axes>"
            ]
          },
          "metadata": {
            "tags": [],
            "needs_background": "light"
          }
        }
      ]
    },
    {
      "cell_type": "code",
      "metadata": {
        "colab": {
          "base_uri": "https://localhost:8080/",
          "height": 266
        },
        "id": "SqSV-R9XUiV5",
        "outputId": "2625b197-b2cd-4af2-9805-79d957d40753"
      },
      "source": [
        "# correlation matrix\n",
        "train.corr()"
      ],
      "execution_count": 241,
      "outputs": [
        {
          "output_type": "execute_result",
          "data": {
            "text/html": [
              "<div>\n",
              "<style scoped>\n",
              "    .dataframe tbody tr th:only-of-type {\n",
              "        vertical-align: middle;\n",
              "    }\n",
              "\n",
              "    .dataframe tbody tr th {\n",
              "        vertical-align: top;\n",
              "    }\n",
              "\n",
              "    .dataframe thead th {\n",
              "        text-align: right;\n",
              "    }\n",
              "</style>\n",
              "<table border=\"1\" class=\"dataframe\">\n",
              "  <thead>\n",
              "    <tr style=\"text-align: right;\">\n",
              "      <th></th>\n",
              "      <th>PassengerId</th>\n",
              "      <th>Survived</th>\n",
              "      <th>Pclass</th>\n",
              "      <th>Age</th>\n",
              "      <th>SibSp</th>\n",
              "      <th>Parch</th>\n",
              "      <th>Fare</th>\n",
              "    </tr>\n",
              "  </thead>\n",
              "  <tbody>\n",
              "    <tr>\n",
              "      <th>PassengerId</th>\n",
              "      <td>1.000000</td>\n",
              "      <td>-0.005007</td>\n",
              "      <td>-0.035144</td>\n",
              "      <td>0.036847</td>\n",
              "      <td>-0.057527</td>\n",
              "      <td>-0.001652</td>\n",
              "      <td>0.012658</td>\n",
              "    </tr>\n",
              "    <tr>\n",
              "      <th>Survived</th>\n",
              "      <td>-0.005007</td>\n",
              "      <td>1.000000</td>\n",
              "      <td>-0.338481</td>\n",
              "      <td>-0.077221</td>\n",
              "      <td>-0.035322</td>\n",
              "      <td>0.081629</td>\n",
              "      <td>0.257307</td>\n",
              "    </tr>\n",
              "    <tr>\n",
              "      <th>Pclass</th>\n",
              "      <td>-0.035144</td>\n",
              "      <td>-0.338481</td>\n",
              "      <td>1.000000</td>\n",
              "      <td>-0.369226</td>\n",
              "      <td>0.083081</td>\n",
              "      <td>0.018443</td>\n",
              "      <td>-0.549500</td>\n",
              "    </tr>\n",
              "    <tr>\n",
              "      <th>Age</th>\n",
              "      <td>0.036847</td>\n",
              "      <td>-0.077221</td>\n",
              "      <td>-0.369226</td>\n",
              "      <td>1.000000</td>\n",
              "      <td>-0.308247</td>\n",
              "      <td>-0.189119</td>\n",
              "      <td>0.096067</td>\n",
              "    </tr>\n",
              "    <tr>\n",
              "      <th>SibSp</th>\n",
              "      <td>-0.057527</td>\n",
              "      <td>-0.035322</td>\n",
              "      <td>0.083081</td>\n",
              "      <td>-0.308247</td>\n",
              "      <td>1.000000</td>\n",
              "      <td>0.414838</td>\n",
              "      <td>0.159651</td>\n",
              "    </tr>\n",
              "    <tr>\n",
              "      <th>Parch</th>\n",
              "      <td>-0.001652</td>\n",
              "      <td>0.081629</td>\n",
              "      <td>0.018443</td>\n",
              "      <td>-0.189119</td>\n",
              "      <td>0.414838</td>\n",
              "      <td>1.000000</td>\n",
              "      <td>0.216225</td>\n",
              "    </tr>\n",
              "    <tr>\n",
              "      <th>Fare</th>\n",
              "      <td>0.012658</td>\n",
              "      <td>0.257307</td>\n",
              "      <td>-0.549500</td>\n",
              "      <td>0.096067</td>\n",
              "      <td>0.159651</td>\n",
              "      <td>0.216225</td>\n",
              "      <td>1.000000</td>\n",
              "    </tr>\n",
              "  </tbody>\n",
              "</table>\n",
              "</div>"
            ],
            "text/plain": [
              "             PassengerId  Survived    Pclass       Age     SibSp     Parch      Fare\n",
              "PassengerId     1.000000 -0.005007 -0.035144  0.036847 -0.057527 -0.001652  0.012658\n",
              "Survived       -0.005007  1.000000 -0.338481 -0.077221 -0.035322  0.081629  0.257307\n",
              "Pclass         -0.035144 -0.338481  1.000000 -0.369226  0.083081  0.018443 -0.549500\n",
              "Age             0.036847 -0.077221 -0.369226  1.000000 -0.308247 -0.189119  0.096067\n",
              "SibSp          -0.057527 -0.035322  0.083081 -0.308247  1.000000  0.414838  0.159651\n",
              "Parch          -0.001652  0.081629  0.018443 -0.189119  0.414838  1.000000  0.216225\n",
              "Fare            0.012658  0.257307 -0.549500  0.096067  0.159651  0.216225  1.000000"
            ]
          },
          "metadata": {
            "tags": []
          },
          "execution_count": 241
        }
      ]
    },
    {
      "cell_type": "markdown",
      "metadata": {
        "id": "iTaL0qQS4OmZ"
      },
      "source": [
        "Pclass = 1 is more likely to survive."
      ]
    },
    {
      "cell_type": "markdown",
      "metadata": {
        "id": "IKEoPUUB4GAG"
      },
      "source": [
        "*Data Cleaning*"
      ]
    },
    {
      "cell_type": "markdown",
      "metadata": {
        "id": "3860HtS7QEQg"
      },
      "source": [
        "Steps for predicting unknown age values:\n",
        "1. Create a combined dataset of train and test.\n",
        "2. Assign NaN values in Age label to -0.5. \n",
        "3. Create a new column AgeGroup.\n",
        "4. Extract titles from Name column.\n",
        "5.Replace titles with the more general names.\n",
        "6. Map Title names to numeric numbers and fillna with 0.\n",
        "7. predict the missing Age values from the most common age for their Title by calculting mode.\n",
        "8.Fill the unknown values\n",
        "9. Map AgeGroup values to numeric.\n"
      ]
    },
    {
      "cell_type": "code",
      "metadata": {
        "id": "QWRoRT6Y5Q5k"
      },
      "source": [
        " # Age\n",
        "\n",
        "## As the test data is also missing the age values therfore we have fill the age value there too.\n",
        "\n",
        "# Thus lets combine both datasets and fill the missing age values.\n",
        "\n",
        "combined = [train, test]\n",
        "\n",
        "# Filling the missing age values with -0.5\n",
        "for dataset in combined:\n",
        "  dataset['Age'] = dataset['Age'].fillna(-0.5)\n",
        "\n",
        "# creating a new column named AgeGroup\n",
        "bins = [-1, 0, 5, 12, 18, 24, 35, 60, np.inf]\n",
        "labels=['Unknown', 'Baby', 'Child', 'Teenager', 'Student', 'Young Adult', 'Adult', 'Senior']\n",
        "for dataset in combined:\n",
        "  dataset['AgeGroup'] = pd.cut(train['Age'], bins=bins, labels=labels)\n",
        "\n",
        "# Extracting the Titles from each names\n",
        "for dataset in combined:\n",
        "  dataset['Title'] = dataset['Name'].str.extract(', ([A-Za-z]+)\\.', expand=False)\n",
        "\n",
        "# Replacing the titles with the more general names\n",
        "for dataset in combined:\n",
        "  dataset['Title'] = dataset['Title'].replace(['Dr', 'Rev', 'Major', 'Col', 'Jonkheer', 'Sir', 'Capt', 'Don', 'Dona'], 'Rare')\n",
        "  dataset['Title'] = dataset['Title'].replace(['Mlle', 'Ms', 'Mme'], 'Miss')\n",
        "  dataset['Title'] = dataset['Title'].replace('Lady', 'Mrs')\n",
        "\n",
        "#print(train[['Title', 'Survived']].groupby(['Title'], as_index=False).count())\n",
        "\n",
        "# Mapping each value to the the numerical value\n",
        "title_mapping = {'Master':1, 'Miss':2, 'Mr':3, 'Mrs':4, 'Rare':5}\n",
        "for dataset in combined:\n",
        "  dataset['Title'] = dataset['Title'].map(title_mapping)\n",
        "  dataset['Title'] = dataset['Title'].fillna(0)\n",
        "\n",
        "#Next, we'll try to predict the missing Age values from the most common age for their Title\n",
        "\n",
        "master_age = train[train['Title']==1]['AgeGroup'].mode()\n",
        "#print(master_age)\n",
        "# Master_age = baby\n",
        "\n",
        "miss_age = train[train['Title']==2]['AgeGroup'].mode()\n",
        "#print(miss_age)\n",
        "# miss_age = Student\n",
        "\n",
        "mr_age = train[train['Title']==3]['AgeGroup'].mode()\n",
        "#print(mr_age)\n",
        "# mr_age= Young Adult\n",
        "\n",
        "mrs_age = train[train['Title']==4]['AgeGroup'].mode()\n",
        "#print(mrs_age)\n",
        "# mrs_age=Adult\n",
        "\n",
        "rare_age = train[train['Title']==5]['AgeGroup'].mode()\n",
        "#print(rare_age)\n",
        "# rare_age = adult\n",
        "\n",
        "age_title_mapping = {1:'Baby', 2:'Student', 3:'Young Adult', 4:'Adult', 5:'Adult'}\n",
        "\n",
        "for x in range(len(train)):\n",
        "  if train['AgeGroup'][x] == 'Unknown':\n",
        "    train['AgeGroup'][x] = age_title_mapping[train['Title'][x]]\n",
        " \n",
        "for x in range(len(test)):\n",
        "  if test['AgeGroup'][x] == 'Unknown':\n",
        "    test['AgeGroup'][x] = age_title_mapping[test['Title'][x]]\n",
        "\n",
        "# Thus we have filled the unknown values.\n",
        "age_value_maping = {'Baby':1, 'Child':2, 'Teenager':3, 'Student':4, 'Young Adult':5, 'Adult':6, 'Senior':7}\n",
        "\n",
        "for dataset in combined:\n",
        "  dataset['AgeGroup'] = dataset['AgeGroup'].map(age_value_maping)\n"
      ],
      "execution_count": 242,
      "outputs": []
    },
    {
      "cell_type": "markdown",
      "metadata": {
        "id": "5ztMSvk-bAja"
      },
      "source": [
        " Dropping the featues which are of no use."
      ]
    },
    {
      "cell_type": "code",
      "metadata": {
        "id": "he947v-8bLID"
      },
      "source": [
        "train = train.drop(['PassengerId','Name', 'Age', 'Ticket', 'Cabin', 'Title'], axis=1)\n",
        "test = test.drop(['Name', 'Age', 'Ticket', 'Cabin', 'Title'], axis=1)"
      ],
      "execution_count": 243,
      "outputs": []
    },
    {
      "cell_type": "markdown",
      "metadata": {
        "id": "8IqKmAVybjGK"
      },
      "source": [
        "Emabarked Feature"
      ]
    },
    {
      "cell_type": "code",
      "metadata": {
        "colab": {
          "base_uri": "https://localhost:8080/"
        },
        "id": "c1qe7HhAdakA",
        "outputId": "293611c2-e727-4ec9-f689-127454af06ff"
      },
      "source": [
        "print(train['Embarked'].value_counts())"
      ],
      "execution_count": 244,
      "outputs": [
        {
          "output_type": "stream",
          "text": [
            "S    644\n",
            "C    168\n",
            "Q     77\n",
            "Name: Embarked, dtype: int64\n"
          ],
          "name": "stdout"
        }
      ]
    },
    {
      "cell_type": "markdown",
      "metadata": {
        "id": "XhZ6NbBzdv51"
      },
      "source": [
        "As we can easily see that most people embarked from S and therefore filling the missing values with S."
      ]
    },
    {
      "cell_type": "code",
      "metadata": {
        "id": "2E6Mqsa9eGR_"
      },
      "source": [
        "train = train.fillna({'Embarked': 'S'})"
      ],
      "execution_count": 245,
      "outputs": []
    },
    {
      "cell_type": "code",
      "metadata": {
        "colab": {
          "base_uri": "https://localhost:8080/"
        },
        "id": "z0LDPtYEeMyY",
        "outputId": "ba5adb76-c52d-4f3b-a07f-a5014f454b1c"
      },
      "source": [
        "print(train.describe(include='all'))"
      ],
      "execution_count": 246,
      "outputs": [
        {
          "output_type": "stream",
          "text": [
            "          Survived      Pclass   Sex       SibSp       Parch        Fare Embarked    AgeGroup\n",
            "count   891.000000  891.000000   891  891.000000  891.000000  891.000000      891  891.000000\n",
            "unique         NaN         NaN     2         NaN         NaN         NaN        3         NaN\n",
            "top            NaN         NaN  male         NaN         NaN         NaN        S         NaN\n",
            "freq           NaN         NaN   577         NaN         NaN         NaN      646         NaN\n",
            "mean      0.383838    2.308642   NaN    0.523008    0.381594   32.204208      NaN    4.636364\n",
            "std       0.486592    0.836071   NaN    1.102743    0.806057   49.693429      NaN    1.353390\n",
            "min       0.000000    1.000000   NaN    0.000000    0.000000    0.000000      NaN    1.000000\n",
            "25%       0.000000    2.000000   NaN    0.000000    0.000000    7.910400      NaN    4.000000\n",
            "50%       0.000000    3.000000   NaN    0.000000    0.000000   14.454200      NaN    5.000000\n",
            "75%       1.000000    3.000000   NaN    1.000000    0.000000   31.000000      NaN    6.000000\n",
            "max       1.000000    3.000000   NaN    8.000000    6.000000  512.329200      NaN    7.000000\n"
          ],
          "name": "stdout"
        }
      ]
    },
    {
      "cell_type": "markdown",
      "metadata": {
        "id": "XccVH4FmeRPE"
      },
      "source": [
        "Thus all the missing values in train are filled"
      ]
    },
    {
      "cell_type": "code",
      "metadata": {
        "colab": {
          "base_uri": "https://localhost:8080/"
        },
        "id": "Epmvnq_be388",
        "outputId": "fc40791f-5670-44c0-a347-2b2a21785838"
      },
      "source": [
        "print(test.describe(include='all'))"
      ],
      "execution_count": 247,
      "outputs": [
        {
          "output_type": "stream",
          "text": [
            "        PassengerId      Pclass   Sex       SibSp       Parch        Fare Embarked    AgeGroup\n",
            "count    418.000000  418.000000   418  418.000000  418.000000  417.000000      418  418.000000\n",
            "unique          NaN         NaN     2         NaN         NaN         NaN        3         NaN\n",
            "top             NaN         NaN  male         NaN         NaN         NaN        S         NaN\n",
            "freq            NaN         NaN   266         NaN         NaN         NaN      270         NaN\n",
            "mean    1100.500000    2.265550   NaN    0.447368    0.392344   35.627188      NaN    4.559809\n",
            "std      120.810458    0.841838   NaN    0.896760    0.981429   55.907576      NaN    1.415065\n",
            "min      892.000000    1.000000   NaN    0.000000    0.000000    0.000000      NaN    1.000000\n",
            "25%      996.250000    1.000000   NaN    0.000000    0.000000    7.895800      NaN    4.000000\n",
            "50%     1100.500000    3.000000   NaN    0.000000    0.000000   14.454200      NaN    5.000000\n",
            "75%     1204.750000    3.000000   NaN    1.000000    0.000000   31.500000      NaN    6.000000\n",
            "max     1309.000000    3.000000   NaN    8.000000    9.000000  512.329200      NaN    7.000000\n"
          ],
          "name": "stdout"
        }
      ]
    },
    {
      "cell_type": "markdown",
      "metadata": {
        "id": "-QHCL8M7e9ak"
      },
      "source": [
        "One value in the fare feature is still missing"
      ]
    },
    {
      "cell_type": "code",
      "metadata": {
        "colab": {
          "base_uri": "https://localhost:8080/"
        },
        "id": "Qxa06_ZPvJdw",
        "outputId": "f3f1163b-330a-413e-993c-265fffedf0e0"
      },
      "source": [
        "print(test[test['Fare'].isnull()])"
      ],
      "execution_count": 248,
      "outputs": [
        {
          "output_type": "stream",
          "text": [
            "     PassengerId  Pclass   Sex  SibSp  Parch  Fare Embarked  AgeGroup\n",
            "152         1044       3  male      0      0   NaN        S       6.0\n"
          ],
          "name": "stdout"
        }
      ]
    },
    {
      "cell_type": "markdown",
      "metadata": {
        "id": "8Tkm7SIYviD3"
      },
      "source": [
        "As the fare of passenger form the third class is missing and therefore filling that wit the mean fare of class 3"
      ]
    },
    {
      "cell_type": "code",
      "metadata": {
        "id": "NT_y-CQ1w0Vl"
      },
      "source": [
        "for x in range(len(test)):\n",
        "  if pd.isnull(test['Fare'][x]):\n",
        "    pclass = test['Pclass'][x]\n",
        "    test['Fare'][x] = test[test['Pclass']==pclass]['Fare'].mean()"
      ],
      "execution_count": 249,
      "outputs": []
    },
    {
      "cell_type": "code",
      "metadata": {
        "id": "spttMQIN0lLs"
      },
      "source": [
        "Embarked_mapping = {'S': 1, 'C': 2, 'Q': 3}\n",
        "train['Embarked'] = train['Embarked'].map(Embarked_mapping)\n",
        "test['Embarked'] = test['Embarked'].map(Embarked_mapping)"
      ],
      "execution_count": 250,
      "outputs": []
    },
    {
      "cell_type": "markdown",
      "metadata": {
        "id": "8w6URUXUyaui"
      },
      "source": [
        "Thus all the missing values are filled"
      ]
    },
    {
      "cell_type": "markdown",
      "metadata": {
        "id": "P0g4XBdUyxTq"
      },
      "source": [
        "Mapping the fare values into the group of features"
      ]
    },
    {
      "cell_type": "code",
      "metadata": {
        "id": "My3xHjr2za92"
      },
      "source": [
        "train['FareBand'] = pd.qcut(train['Fare'], 4, labels=[1, 2, 3, 4])\n",
        "test['FareBand'] = pd.qcut(test.Fare, 4, labels=[1, 2, 3, 4])"
      ],
      "execution_count": 251,
      "outputs": []
    },
    {
      "cell_type": "code",
      "metadata": {
        "id": "Cj5htcEBzz-N"
      },
      "source": [
        "train = train.drop('Fare', axis=1)\n",
        "test = test.drop('Fare', axis=1)"
      ],
      "execution_count": 252,
      "outputs": []
    },
    {
      "cell_type": "code",
      "metadata": {
        "colab": {
          "base_uri": "https://localhost:8080/"
        },
        "id": "W_Tt-3QM0gBB",
        "outputId": "e592c6cb-bae2-437c-cc79-92afcd05fe11"
      },
      "source": [
        "sex_mapping = {'male':1, 'female':2}\n",
        "train['Sex'] = train['Sex'].map(sex_mapping)\n",
        "test['Sex'] = test['Sex'].map(sex_mapping)\n",
        "print(train)"
      ],
      "execution_count": 253,
      "outputs": [
        {
          "output_type": "stream",
          "text": [
            "     Survived  Pclass  Sex  SibSp  Parch  Embarked  AgeGroup FareBand\n",
            "0           0       3    1      1      0         1       4.0        1\n",
            "1           1       1    2      1      0         2       6.0        4\n",
            "2           1       3    2      0      0         1       5.0        2\n",
            "3           1       1    2      1      0         1       5.0        4\n",
            "4           0       3    1      0      0         1       5.0        2\n",
            "..        ...     ...  ...    ...    ...       ...       ...      ...\n",
            "886         0       2    1      0      0         1       5.0        2\n",
            "887         1       1    2      0      0         1       4.0        3\n",
            "888         0       3    2      1      2         1       4.0        3\n",
            "889         1       1    1      0      0         2       5.0        3\n",
            "890         0       3    1      0      0         3       5.0        1\n",
            "\n",
            "[891 rows x 8 columns]\n"
          ],
          "name": "stdout"
        }
      ]
    },
    {
      "cell_type": "code",
      "metadata": {
        "colab": {
          "base_uri": "https://localhost:8080/"
        },
        "id": "1BhV_-xC1__q",
        "outputId": "93ef956d-739e-45c0-d051-befdbecce83d"
      },
      "source": [
        "print(train)"
      ],
      "execution_count": 254,
      "outputs": [
        {
          "output_type": "stream",
          "text": [
            "     Survived  Pclass  Sex  SibSp  Parch  Embarked  AgeGroup FareBand\n",
            "0           0       3    1      1      0         1       4.0        1\n",
            "1           1       1    2      1      0         2       6.0        4\n",
            "2           1       3    2      0      0         1       5.0        2\n",
            "3           1       1    2      1      0         1       5.0        4\n",
            "4           0       3    1      0      0         1       5.0        2\n",
            "..        ...     ...  ...    ...    ...       ...       ...      ...\n",
            "886         0       2    1      0      0         1       5.0        2\n",
            "887         1       1    2      0      0         1       4.0        3\n",
            "888         0       3    2      1      2         1       4.0        3\n",
            "889         1       1    1      0      0         2       5.0        3\n",
            "890         0       3    1      0      0         3       5.0        1\n",
            "\n",
            "[891 rows x 8 columns]\n"
          ],
          "name": "stdout"
        }
      ]
    },
    {
      "cell_type": "code",
      "metadata": {
        "colab": {
          "base_uri": "https://localhost:8080/"
        },
        "id": "09SRJDT32UiC",
        "outputId": "67e5c041-f696-4c4a-b93c-f0010d79bcb2"
      },
      "source": [
        "print(test)"
      ],
      "execution_count": 255,
      "outputs": [
        {
          "output_type": "stream",
          "text": [
            "     PassengerId  Pclass  Sex  SibSp  Parch  Embarked  AgeGroup FareBand\n",
            "0            892       3    1      0      0         3       4.0        1\n",
            "1            893       3    2      1      0         1       6.0        1\n",
            "2            894       2    1      0      0         3       5.0        2\n",
            "3            895       3    1      0      0         1       5.0        2\n",
            "4            896       3    2      1      1         1       5.0        2\n",
            "..           ...     ...  ...    ...    ...       ...       ...      ...\n",
            "413         1305       3    1      0      0         1       5.0        2\n",
            "414         1306       1    2      0      0         2       6.0        4\n",
            "415         1307       3    1      0      0         1       5.0        1\n",
            "416         1308       3    1      0      0         1       5.0        2\n",
            "417         1309       3    1      1      1         2       3.0        3\n",
            "\n",
            "[418 rows x 8 columns]\n"
          ],
          "name": "stdout"
        }
      ]
    },
    {
      "cell_type": "code",
      "metadata": {
        "id": "6F5z9ARi6NzM"
      },
      "source": [
        "train['AgeGroup'] = train['AgeGroup'].astype(int)\n",
        "test['AgeGroup'] = test['AgeGroup'].astype(int)"
      ],
      "execution_count": 256,
      "outputs": []
    },
    {
      "cell_type": "code",
      "metadata": {
        "colab": {
          "base_uri": "https://localhost:8080/"
        },
        "id": "iXNwjOjy6Tbj",
        "outputId": "d0163b70-a309-4faa-8129-1568f91ee180"
      },
      "source": [
        "print(test.dtypes)"
      ],
      "execution_count": 257,
      "outputs": [
        {
          "output_type": "stream",
          "text": [
            "PassengerId       int64\n",
            "Pclass            int64\n",
            "Sex               int64\n",
            "SibSp             int64\n",
            "Parch             int64\n",
            "Embarked          int64\n",
            "AgeGroup          int64\n",
            "FareBand       category\n",
            "dtype: object\n"
          ],
          "name": "stdout"
        }
      ]
    },
    {
      "cell_type": "markdown",
      "metadata": {
        "id": "kGesPSOb6tJi"
      },
      "source": [
        "Now the data is ready"
      ]
    },
    {
      "cell_type": "markdown",
      "metadata": {
        "id": "Cc-vJRl97gpO"
      },
      "source": [
        "Chosing the best model"
      ]
    },
    {
      "cell_type": "code",
      "metadata": {
        "id": "HF7DxeP87mvt"
      },
      "source": [
        "# Split out the validation\n",
        "array = train.values\n",
        "X = array[:, 1:]\n",
        "Y = array[:, 0]\n",
        "\n",
        "x_train, x_valid, y_train, y_valid  = train_test_split(X, Y, test_size=0.20, random_state=7)"
      ],
      "execution_count": 258,
      "outputs": []
    },
    {
      "cell_type": "code",
      "metadata": {
        "id": "Mou8j7Tm8jwM"
      },
      "source": [
        "# Test options and evaluation metric\n",
        "num_folds = 10\n",
        "seed = 7\n",
        "scoring = 'accuracy'"
      ],
      "execution_count": 259,
      "outputs": []
    },
    {
      "cell_type": "code",
      "metadata": {
        "id": "v1gtD5jc-Sow",
        "colab": {
          "base_uri": "https://localhost:8080/"
        },
        "outputId": "5c92b51e-6467-44b1-fe31-4268011a548c"
      },
      "source": [
        "# Spot check algorithms\n",
        "\n",
        "models = []\n",
        "models.append(('LR', LogisticRegression()))\n",
        "models.append(('SVC', SVC()))\n",
        "models.append(('GNB', GaussianNB()))\n",
        "models.append(('KNN', KNeighborsClassifier()))\n",
        "models.append(('DTC', DecisionTreeClassifier()))\n",
        "models.append(('RFC', RandomForestClassifier()))\n",
        "models.append(('SGD', SGDClassifier()))\n",
        "\n",
        "results = []\n",
        "names = []\n",
        "for name, model in models:\n",
        "  kfold = KFold(n_splits=num_folds, random_state=seed)\n",
        "  cv_results = cross_val_score(model, x_train, y_train, scoring=scoring, cv=kfold)\n",
        "  results.append(cv_results)\n",
        "  names.append(name)\n",
        "  msg = '%s : %f (%f)'%(name, cv_results.mean(), cv_results.std())\n",
        "  print(msg)"
      ],
      "execution_count": 260,
      "outputs": [
        {
          "output_type": "stream",
          "text": [
            "LR : 0.799276 (0.055345)\n",
            "SVC : 0.842782 (0.049759)\n",
            "GNB : 0.810387 (0.045515)\n",
            "KNN : 0.802093 (0.060636)\n",
            "DTC : 0.790806 (0.061877)\n",
            "RFC : 0.821694 (0.042392)\n",
            "SGD : 0.761307 (0.065761)\n"
          ],
          "name": "stdout"
        }
      ]
    },
    {
      "cell_type": "code",
      "metadata": {
        "id": "E9Edf4heZuk7",
        "colab": {
          "base_uri": "https://localhost:8080/",
          "height": 294
        },
        "outputId": "a1c0d284-8a0c-49b7-8de7-e574e0a80172"
      },
      "source": [
        "# Compare algorithms\n",
        "fig = plt.figure()\n",
        "fig.suptitle('Algorithm Comparison')\n",
        "ax = fig.add_subplot(111)\n",
        "plt.boxplot(results)\n",
        "ax.set_xticklabels(names)\n",
        "plt.show()"
      ],
      "execution_count": 261,
      "outputs": [
        {
          "output_type": "display_data",
          "data": {
            "image/png": "[encoded data removed]",
            "text/plain": [
              "<Figure size 432x288 with 1 Axes>"
            ]
          },
          "metadata": {
            "tags": [],
            "needs_background": "light"
          }
        }
      ]
    },
    {
      "cell_type": "code",
      "metadata": {
        "colab": {
          "base_uri": "https://localhost:8080/"
        },
        "id": "zggfsbiYgDZo",
        "outputId": "fd2ab0f2-f923-4560-fba6-1a67b3192c6f"
      },
      "source": [
        "# Standardize the dataset\n",
        "pipelines = []\n",
        "pipelines.append(('ScaledLR', Pipeline([('Scalar', StandardScaler()), ('LR', LogisticRegression())])))\n",
        "pipelines.append(('ScaledSVC', Pipeline([('Scalar', StandardScaler()), ('SVC', SVC())])))\n",
        "pipelines.append(('ScaledGNB', Pipeline([('Scalar', StandardScaler()), ('GNB', GaussianNB())])))\n",
        "pipelines.append(('ScaledKNN', Pipeline([('Scalar', StandardScaler()), ('KNN', KNeighborsClassifier())])))\n",
        "pipelines.append(('ScaledDTC', Pipeline([('Scalar', StandardScaler()), ('DTC', DecisionTreeClassifier())])))\n",
        "pipelines.append(('ScaledRFC', Pipeline([('Scalar', StandardScaler()), ('RFC', RandomForestClassifier())])))\n",
        "pipelines.append(('ScaledSGD', Pipeline([('Scalar', StandardScaler()), ('SGD', SGDClassifier())])))\n",
        "\n",
        "results = []\n",
        "names = []\n",
        "for name, model in pipelines:\n",
        "  kfold = KFold(n_splits=num_folds, random_state=seed)\n",
        "  cv_results = cross_val_score(model, x_train, y_train, cv=kfold, scoring=scoring)\n",
        "  results.append(cv_results)\n",
        "  names.append(name)\n",
        "  msg = '%s with %f (%f)'%(name, cv_results.mean(), cv_results.std())\n",
        "  print(msg)"
      ],
      "execution_count": 262,
      "outputs": [
        {
          "output_type": "stream",
          "text": [
            "ScaledLR with 0.806260 (0.053231)\n",
            "ScaledSVC with 0.841412 (0.050960)\n",
            "ScaledGNB with 0.810387 (0.045515)\n",
            "ScaledKNN with 0.818955 (0.051751)\n",
            "ScaledDTC with 0.792214 (0.065088)\n",
            "ScaledRFC with 0.817527 (0.044359)\n",
            "ScaledSGD with 0.782297 (0.057769)\n"
          ],
          "name": "stdout"
        }
      ]
    },
    {
      "cell_type": "code",
      "metadata": {
        "colab": {
          "base_uri": "https://localhost:8080/",
          "height": 294
        },
        "id": "IYtvQufJi_h-",
        "outputId": "2abfb1f1-6d6f-4719-8e59-a7f32fbc5ae1"
      },
      "source": [
        "# Compare algorithms\n",
        "fig = plt.figure()\n",
        "fig.suptitle('Algorithm Comparison')\n",
        "ax = fig.add_subplot(111)\n",
        "plt.boxplot(results)\n",
        "ax.set_xticklabels(names)\n",
        "plt.show()"
      ],
      "execution_count": 263,
      "outputs": [
        {
          "output_type": "display_data",
          "data": {
            "image/png": "[encoded data removed]",
            "text/plain": [
              "<Figure size 432x288 with 1 Axes>"
            ]
          },
          "metadata": {
            "tags": [],
            "needs_background": "light"
          }
        }
      ]
    },
    {
      "cell_type": "code",
      "metadata": {
        "id": "GNMgN7aokXwD",
        "colab": {
          "base_uri": "https://localhost:8080/"
        },
        "outputId": "2c1e4631-e04d-4878-dc27-0664821a66c2"
      },
      "source": [
        "# Tune SVM\n",
        "scaler = StandardScaler()\n",
        "rescaled_x = scaler.fit_transform(x_train)\n",
        "c_values = [0.1, 0.3, 0.5, 0.7, 0.9, 1.0, 1.3, 1.5, 1.7, 1.9, 2.0]\n",
        "kernel_values = ['linear', 'poly', 'rbf', 'sigmoid']\n",
        "param_grid = dict(C=c_values, kernel=kernel_values)\n",
        "model = SVC()\n",
        "kfold = KFold(n_splits=num_folds, random_state=seed)\n",
        "grid = GridSearchCV(estimator=model, cv=kfold, param_grid=param_grid, scoring=scoring)\n",
        "grid_result = grid.fit(rescaled_x, y_train)\n",
        "print('Best: %f using %s'%(grid_result.best_score_, grid_result.best_params_))"
      ],
      "execution_count": 264,
      "outputs": [
        {
          "output_type": "stream",
          "text": [
            "Best: 0.847007 using {'C': 0.3, 'kernel': 'rbf'}\n"
          ],
          "name": "stdout"
        }
      ]
    },
    {
      "cell_type": "markdown",
      "metadata": {
        "id": "vnb15HnBniAS"
      },
      "source": [
        "Finalize Model"
      ]
    },
    {
      "cell_type": "code",
      "metadata": {
        "colab": {
          "base_uri": "https://localhost:8080/"
        },
        "id": "C060lUWAoQn2",
        "outputId": "e239b69d-f1d6-465e-faae-e0b84f2b4f1e"
      },
      "source": [
        "scaler = StandardScaler()\n",
        "rescaled_x = scaler.fit_transform(x_train)\n",
        "model = SVC(C=0.3)\n",
        "model.fit(rescaled_x, y_train)\n",
        "\n",
        "rescaled_x_valid = scaler.fit_transform(x_valid)\n",
        "predictions = model.predict(rescaled_x_valid)\n",
        "print(accuracy_score(y_valid, predictions))"
      ],
      "execution_count": 265,
      "outputs": [
        {
          "output_type": "stream",
          "text": [
            "0.7653631284916201\n"
          ],
          "name": "stdout"
        }
      ]
    },
    {
      "cell_type": "markdown",
      "metadata": {
        "id": "IKl71djZqdk7"
      },
      "source": [
        "Creating a submission file"
      ]
    },
    {
      "cell_type": "code",
      "metadata": {
        "id": "_WFMqutVr-vP"
      },
      "source": [
        "ids = test.PassengerId\n",
        "predictions = model.predict(test.drop('PassengerId', axis=1))\n",
        "\n",
        "output = pd.DataFrame(({'PassengerId': ids, 'Survived': predictions}))\n",
        "output.to_csv('submission.csv', index=False)"
      ],
      "execution_count": 266,
      "outputs": []
    },
    {
      "cell_type": "code",
      "metadata": {
        "id": "y6r7c5hVsD1v"
      },
      "source": [
        ""
      ],
      "execution_count": 266,
      "outputs": []
    }
  ]
}